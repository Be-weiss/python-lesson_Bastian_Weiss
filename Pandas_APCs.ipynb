{
 "cells": [
  {
   "cell_type": "code",
   "execution_count": 6,
   "metadata": {},
   "outputs": [],
   "source": [
    "import urllib.request\n",
    "import pandas as pd"
   ]
  },
  {
   "cell_type": "code",
   "execution_count": 7,
   "metadata": {},
   "outputs": [],
   "source": [
    "url = \"https://raw.githubusercontent.com/OpenAPC/openapc-de/master/data/fuberlin/APC_FU_Berlin_2015.csv\"\n",
    "apc_file = \"openapc.csv\""
   ]
  },
  {
   "cell_type": "code",
   "execution_count": 8,
   "metadata": {},
   "outputs": [
    {
     "data": {
      "text/plain": [
       "('openapc.csv', <http.client.HTTPMessage at 0x7f73a1def370>)"
      ]
     },
     "execution_count": 8,
     "metadata": {},
     "output_type": "execute_result"
    }
   ],
   "source": [
    "urllib.request.urlretrieve(url, apc_file)"
   ]
  },
  {
   "cell_type": "code",
   "execution_count": 13,
   "metadata": {},
   "outputs": [],
   "source": [
    "apcs = pd.read_csv(apc_file)"
   ]
  },
  {
   "cell_type": "code",
   "execution_count": 14,
   "metadata": {},
   "outputs": [
    {
     "data": {
      "text/plain": [
       "Index(['institution', 'period', 'euro', 'doi', 'is_hybrid', 'publisher',\n",
       "       'journal_full_title', 'issn', 'issn_print', 'issn_electronic',\n",
       "       'license_ref', 'indexed_in_crossref', 'pmid', 'pmcid', 'ut', 'url',\n",
       "       'doaj'],\n",
       "      dtype='object')"
      ]
     },
     "execution_count": 14,
     "metadata": {},
     "output_type": "execute_result"
    }
   ],
   "source": [
    "apcs.columns"
   ]
  },
  {
   "cell_type": "code",
   "execution_count": 15,
   "metadata": {},
   "outputs": [
    {
     "data": {
      "text/html": [
       "<div>\n",
       "<style scoped>\n",
       "    .dataframe tbody tr th:only-of-type {\n",
       "        vertical-align: middle;\n",
       "    }\n",
       "\n",
       "    .dataframe tbody tr th {\n",
       "        vertical-align: top;\n",
       "    }\n",
       "\n",
       "    .dataframe thead th {\n",
       "        text-align: right;\n",
       "    }\n",
       "</style>\n",
       "<table border=\"1\" class=\"dataframe\">\n",
       "  <thead>\n",
       "    <tr style=\"text-align: right;\">\n",
       "      <th></th>\n",
       "      <th>euro</th>\n",
       "      <th>period</th>\n",
       "    </tr>\n",
       "  </thead>\n",
       "  <tbody>\n",
       "    <tr>\n",
       "      <th>0</th>\n",
       "      <td>2000.00</td>\n",
       "      <td>2015</td>\n",
       "    </tr>\n",
       "    <tr>\n",
       "      <th>1</th>\n",
       "      <td>1503.12</td>\n",
       "      <td>2015</td>\n",
       "    </tr>\n",
       "    <tr>\n",
       "      <th>2</th>\n",
       "      <td>2000.00</td>\n",
       "      <td>2015</td>\n",
       "    </tr>\n",
       "    <tr>\n",
       "      <th>3</th>\n",
       "      <td>2000.00</td>\n",
       "      <td>2015</td>\n",
       "    </tr>\n",
       "    <tr>\n",
       "      <th>4</th>\n",
       "      <td>1805.00</td>\n",
       "      <td>2015</td>\n",
       "    </tr>\n",
       "    <tr>\n",
       "      <th>...</th>\n",
       "      <td>...</td>\n",
       "      <td>...</td>\n",
       "    </tr>\n",
       "    <tr>\n",
       "      <th>56</th>\n",
       "      <td>1731.45</td>\n",
       "      <td>2015</td>\n",
       "    </tr>\n",
       "    <tr>\n",
       "      <th>57</th>\n",
       "      <td>1600.00</td>\n",
       "      <td>2015</td>\n",
       "    </tr>\n",
       "    <tr>\n",
       "      <th>58</th>\n",
       "      <td>219.84</td>\n",
       "      <td>2015</td>\n",
       "    </tr>\n",
       "    <tr>\n",
       "      <th>59</th>\n",
       "      <td>1386.35</td>\n",
       "      <td>2015</td>\n",
       "    </tr>\n",
       "    <tr>\n",
       "      <th>60</th>\n",
       "      <td>2000.00</td>\n",
       "      <td>2015</td>\n",
       "    </tr>\n",
       "  </tbody>\n",
       "</table>\n",
       "<p>61 rows × 2 columns</p>\n",
       "</div>"
      ],
      "text/plain": [
       "       euro  period\n",
       "0   2000.00    2015\n",
       "1   1503.12    2015\n",
       "2   2000.00    2015\n",
       "3   2000.00    2015\n",
       "4   1805.00    2015\n",
       "..      ...     ...\n",
       "56  1731.45    2015\n",
       "57  1600.00    2015\n",
       "58   219.84    2015\n",
       "59  1386.35    2015\n",
       "60  2000.00    2015\n",
       "\n",
       "[61 rows x 2 columns]"
      ]
     },
     "execution_count": 15,
     "metadata": {},
     "output_type": "execute_result"
    }
   ],
   "source": [
    "apcs[[\"euro\", \"period\"]]"
   ]
  },
  {
   "cell_type": "code",
   "execution_count": 17,
   "metadata": {},
   "outputs": [
    {
     "data": {
      "text/plain": [
       "1410.07"
      ]
     },
     "execution_count": 17,
     "metadata": {},
     "output_type": "execute_result"
    }
   ],
   "source": [
    "apcs[\"euro\"].median()"
   ]
  },
  {
   "cell_type": "code",
   "execution_count": 19,
   "metadata": {},
   "outputs": [
    {
     "data": {
      "text/plain": [
       "count      61.000000\n",
       "mean     1419.608033\n",
       "std       456.811349\n",
       "min       219.840000\n",
       "25%      1178.420000\n",
       "50%      1410.070000\n",
       "75%      1800.000000\n",
       "max      2000.000000\n",
       "Name: euro, dtype: float64"
      ]
     },
     "execution_count": 19,
     "metadata": {},
     "output_type": "execute_result"
    }
   ],
   "source": [
    "apcs[\"euro\"].describe()"
   ]
  },
  {
   "cell_type": "code",
   "execution_count": 1,
   "metadata": {},
   "outputs": [
    {
     "name": "stdout",
     "output_type": "stream",
     "text": [
      "Object ` apcs[\"euro\"].describe()` not found.\n"
     ]
    }
   ],
   "source": [
    "? apcs[\"euro\"].describe()"
   ]
  },
  {
   "cell_type": "code",
   "execution_count": 3,
   "metadata": {},
   "outputs": [
    {
     "name": "stdout",
     "output_type": "stream",
     "text": [
      "Object `apcs[\"euro\"].describe` not found.\n"
     ]
    }
   ],
   "source": [
    "? apcs.describe"
   ]
  },
  {
   "cell_type": "code",
   "execution_count": 19,
   "metadata": {},
   "outputs": [
    {
     "data": {
      "text/plain": [
       "<AxesSubplot:>"
      ]
     },
     "execution_count": 19,
     "metadata": {},
     "output_type": "execute_result"
    },
    {
     "data": {
      "image/png": "[encoded data removed]",
      "text/plain": [
       "<Figure size 432x288 with 1 Axes>"
      ]
     },
     "metadata": {
      "needs_background": "light"
     },
     "output_type": "display_data"
    }
   ],
   "source": [
    "apcs[\"euro\"].hist()"
   ]
  },
  {
   "cell_type": "code",
   "execution_count": 20,
   "metadata": {},
   "outputs": [
    {
     "name": "stdout",
     "output_type": "stream",
     "text": [
      "Package                Version             \n",
      "---------------------- --------------------\n",
      "apturl                 0.5.2               \n",
      "attrs                  19.3.0              \n",
      "backcall               0.1.0               \n",
      "bleach                 3.1.1               \n",
      "blinker                1.4                 \n",
      "Brlapi                 0.7.0               \n",
      "certifi                2019.11.28          \n",
      "chardet                3.0.4               \n",
      "Click                  7.0                 \n",
      "colorama               0.4.3               \n",
      "command-not-found      0.3                 \n",
      "cryptography           2.8                 \n",
      "cupshelpers            1.0                 \n",
      "cycler                 0.10.0              \n",
      "dbus-python            1.2.16              \n",
      "decorator              4.4.2               \n",
      "defer                  1.0.6               \n",
      "defusedxml             0.6.0               \n",
      "distro                 1.4.0               \n",
      "distro-info            0.23ubuntu1         \n",
      "entrypoints            0.3                 \n",
      "html5lib               1.0.1               \n",
      "httplib2               0.14.0              \n",
      "idna                   2.8                 \n",
      "importlib-metadata     1.5.0               \n",
      "ipykernel              5.2.0               \n",
      "ipython                7.13.0              \n",
      "ipython-genutils       0.2.0               \n",
      "ipywidgets             6.0.0               \n",
      "jedi                   0.15.2              \n",
      "Jinja2                 2.10.1              \n",
      "jsonschema             3.2.0               \n",
      "jupyter-client         6.1.2               \n",
      "jupyter-console        6.0.0               \n",
      "jupyter-core           4.6.3               \n",
      "keyring                18.0.1              \n",
      "kiwisolver             1.3.1               \n",
      "language-selector      0.1                 \n",
      "launchpadlib           1.10.13             \n",
      "lazr.restfulclient     0.14.2              \n",
      "lazr.uri               1.0.3               \n",
      "louis                  3.12.0              \n",
      "macaroonbakery         1.3.1               \n",
      "MarkupSafe             1.1.0               \n",
      "matplotlib             3.3.3               \n",
      "mistune                0.8.4               \n",
      "more-itertools         4.2.0               \n",
      "nbconvert              5.6.1               \n",
      "nbformat               5.0.4               \n",
      "netifaces              0.10.4              \n",
      "notebook               6.0.3               \n",
      "numpy                  1.19.5              \n",
      "oauthlib               3.1.0               \n",
      "olefile                0.46                \n",
      "pandas                 1.2.0               \n",
      "pandocfilters          1.4.2               \n",
      "parso                  0.5.2               \n",
      "pexpect                4.6.0               \n",
      "pickleshare            0.7.5               \n",
      "Pillow                 7.0.0               \n",
      "pip                    20.0.2              \n",
      "prometheus-client      0.7.1               \n",
      "prompt-toolkit         2.0.10              \n",
      "protobuf               3.6.1               \n",
      "pycairo                1.16.2              \n",
      "pycups                 1.9.73              \n",
      "Pygments               2.3.1               \n",
      "PyGObject              3.36.0              \n",
      "PyJWT                  1.7.1               \n",
      "pymacaroons            0.13.0              \n",
      "PyNaCl                 1.3.0               \n",
      "pyparsing              2.4.7               \n",
      "pyRFC3339              1.1                 \n",
      "pyrsistent             0.15.5              \n",
      "python-apt             2.0.0+ubuntu0.20.4.3\n",
      "python-dateutil        2.7.3               \n",
      "python-debian          0.1.36ubuntu1       \n",
      "pytz                   2019.3              \n",
      "pyxdg                  0.26                \n",
      "PyYAML                 5.3.1               \n",
      "pyzmq                  18.1.1              \n",
      "reportlab              3.5.34              \n",
      "requests               2.22.0              \n",
      "requests-unixsocket    0.2.0               \n",
      "SecretStorage          2.3.1               \n",
      "Send2Trash             1.5.0               \n",
      "setuptools             45.2.0              \n",
      "simplejson             3.16.0              \n",
      "six                    1.14.0              \n",
      "systemd-python         234                 \n",
      "terminado              0.8.2               \n",
      "testpath               0.4.4               \n",
      "tornado                5.1.1               \n",
      "traitlets              4.3.3               \n",
      "ubuntu-advantage-tools 20.3                \n",
      "ubuntu-drivers-common  0.0.0               \n",
      "ufw                    0.36                \n",
      "unattended-upgrades    0.1                 \n",
      "urllib3                1.25.8              \n",
      "wadllib                1.3.3               \n",
      "wcwidth                0.1.8               \n",
      "webencodings           0.5.1               \n",
      "wheel                  0.34.2              \n",
      "widgetsnbextension     2.0.0               \n",
      "xkit                   0.0.0               \n",
      "zipp                   1.0.0               \n",
      "Note: you may need to restart the kernel to use updated packages.\n"
     ]
    }
   ],
   "source": [
    "pip list"
   ]
  },
  {
   "cell_type": "code",
   "execution_count": 25,
   "metadata": {},
   "outputs": [],
   "source": [
    "apcs.to_excel(\"out.xlsx\")"
   ]
  },
  {
   "cell_type": "code",
   "execution_count": 24,
   "metadata": {},
   "outputs": [
    {
     "name": "stdout",
     "output_type": "stream",
     "text": [
      "Collecting openpyxl\n",
      "  Downloading openpyxl-3.0.6-py2.py3-none-any.whl (242 kB)\n",
      "\u001b[K     |████████████████████████████████| 242 kB 2.7 MB/s eta 0:00:01\n",
      "\u001b[?25hCollecting et-xmlfile\n",
      "  Downloading et_xmlfile-1.0.1.tar.gz (8.4 kB)\n",
      "Collecting jdcal\n",
      "  Downloading jdcal-1.4.1-py2.py3-none-any.whl (9.5 kB)\n",
      "Building wheels for collected packages: et-xmlfile\n",
      "  Building wheel for et-xmlfile (setup.py) ... \u001b[?25ldone\n",
      "\u001b[?25h  Created wheel for et-xmlfile: filename=et_xmlfile-1.0.1-py3-none-any.whl size=8915 sha256=8706cef74eb38102379d5ad13c3e94166f98675fab6ffad6026930f885311342\n",
      "  Stored in directory: /home/bw/.cache/pip/wheels/6e/df/38/abda47b884e3e25f9f9b6430e5ce44c47670758a50c0c51759\n",
      "Successfully built et-xmlfile\n",
      "Installing collected packages: et-xmlfile, jdcal, openpyxl\n",
      "Successfully installed et-xmlfile-1.0.1 jdcal-1.4.1 openpyxl-3.0.6\n",
      "Note: you may need to restart the kernel to use updated packages.\n"
     ]
    }
   ],
   "source": [
    "pip install openpyxl"
   ]
  },
  {
   "cell_type": "code",
   "execution_count": null,
   "metadata": {},
   "outputs": [],
   "source": []
  }
 ],
 "metadata": {
  "kernelspec": {
   "display_name": "Python 3",
   "language": "python",
   "name": "python3"
  },
  "language_info": {
   "codemirror_mode": {
    "name": "ipython",
    "version": 3
   },
   "file_extension": ".py",
   "mimetype": "text/x-python",
   "name": "python",
   "nbconvert_exporter": "python",
   "pygments_lexer": "ipython3",
   "version": "3.8.5"
  }
 },
 "nbformat": 4,
 "nbformat_minor": 4
}
